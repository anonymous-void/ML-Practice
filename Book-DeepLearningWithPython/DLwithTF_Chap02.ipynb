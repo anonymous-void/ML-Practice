{
  "cells": [
    {
      "cell_type": "code",
      "execution_count": 2,
      "metadata": {
        "collapsed": true,
        "pycharm": {
          "is_executing": false
        }
      },
      "outputs": [],
      "source": "import tensorflow as tf\nimport numpy as np\n"
    },
    {
      "cell_type": "code",
      "execution_count": 10,
      "outputs": [
        {
          "name": "stdout",
          "text": [
            "1\n2\n"
          ],
          "output_type": "stream"
        }
      ],
      "source": "value \u003dtf.Variable(0, name\u003d\"myvar\")\none \u003d tf.constant(1)\nnew_value \u003d tf.add(value, one)\nupdate_value \u003d tf.assign(value, new_value)\ninitialize_var \u003d tf.global_variables_initializer()\n\nwith tf.Session() as sess:\n    sess.run(initialize_var)\n    # print(sess.run(value))\n    # for _ in range(10):\n    #     sess.run(update_value)\n    #     print(sess.run(value))\n    print(sess.run(update_value))\n    print(sess.run(update_value))",
      "metadata": {
        "pycharm": {
          "metadata": false,
          "name": "#%%\n",
          "is_executing": false
        }
      }
    },
    {
      "cell_type": "code",
      "execution_count": null,
      "outputs": [],
      "source": "\n",
      "metadata": {
        "pycharm": {
          "metadata": false,
          "name": "#%%\n"
        }
      }
    }
  ],
  "metadata": {
    "language_info": {
      "codemirror_mode": {
        "name": "ipython",
        "version": 2
      },
      "file_extension": ".py",
      "mimetype": "text/x-python",
      "name": "python",
      "nbconvert_exporter": "python",
      "pygments_lexer": "ipython2",
      "version": "2.7.6"
    },
    "kernelspec": {
      "name": "python3",
      "language": "python",
      "display_name": "Python 3"
    }
  },
  "nbformat": 4,
  "nbformat_minor": 0
}